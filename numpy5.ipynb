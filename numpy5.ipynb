{
 "cells": [
  {
   "cell_type": "markdown",
   "id": "68e73220",
   "metadata": {},
   "source": [
    "# numpy indexing and slicing"
   ]
  },
  {
   "cell_type": "markdown",
   "id": "22c72f47",
   "metadata": {},
   "source": [
    "## There are three types of indexing mwthod\n",
    "### 1) field access\n",
    "### 2) basic slicing\n",
    "### 3) advanced indexing\n"
   ]
  },
  {
   "cell_type": "markdown",
   "id": "e9dd0056",
   "metadata": {},
   "source": [
    "## <font color=\"purple\">Field access"
   ]
  },
  {
   "cell_type": "code",
   "execution_count": 3,
   "id": "90d960bf",
   "metadata": {},
   "outputs": [
    {
     "name": "stdout",
     "output_type": "stream",
     "text": [
      "[ 5  6  7  8  9 10 11 12 13 14]\n",
      "8\n"
     ]
    }
   ],
   "source": [
    "import numpy as np\n",
    "a=np.arange(5,15)\n",
    "print(a)\n",
    "#accessing of array element with index value\n",
    "print(a[3]) #Field access by using index value"
   ]
  },
  {
   "cell_type": "code",
   "execution_count": 4,
   "id": "2b6b138f",
   "metadata": {},
   "outputs": [
    {
     "data": {
      "text/plain": [
       "array([50,  6,  7,  8,  9, 10, 11, 12, 13, 14])"
      ]
     },
     "execution_count": 4,
     "metadata": {},
     "output_type": "execute_result"
    }
   ],
   "source": [
    "#Assigning element by using index value\n",
    "a[0]=50\n",
    "a"
   ]
  },
  {
   "cell_type": "markdown",
   "id": "6f6dbe66",
   "metadata": {},
   "source": [
    "# For multi Dimentional array"
   ]
  },
  {
   "cell_type": "code",
   "execution_count": 13,
   "id": "744ae3db",
   "metadata": {},
   "outputs": [
    {
     "data": {
      "text/plain": [
       "array([[1, 2, 3],\n",
       "       [4, 5, 6],\n",
       "       [7, 8, 9]])"
      ]
     },
     "execution_count": 13,
     "metadata": {},
     "output_type": "execute_result"
    }
   ],
   "source": [
    "b=np.arange(1,10)\n",
    "b=np.reshape(b,(3,3))\n",
    "b"
   ]
  },
  {
   "cell_type": "markdown",
   "id": "28548848",
   "metadata": {},
   "source": [
    "## accessing element for 3D array"
   ]
  },
  {
   "cell_type": "code",
   "execution_count": 7,
   "id": "cce92ee7",
   "metadata": {},
   "outputs": [
    {
     "data": {
      "text/plain": [
       "5"
      ]
     },
     "execution_count": 7,
     "metadata": {},
     "output_type": "execute_result"
    }
   ],
   "source": [
    "b[1,1] # accessing element of 1 indexed row and 1 indexed column of 3D array"
   ]
  },
  {
   "cell_type": "code",
   "execution_count": 9,
   "id": "f72eb3ec",
   "metadata": {},
   "outputs": [
    {
     "data": {
      "text/plain": [
       "9"
      ]
     },
     "execution_count": 9,
     "metadata": {},
     "output_type": "execute_result"
    }
   ],
   "source": [
    "b[2,2]"
   ]
  },
  {
   "cell_type": "markdown",
   "id": "8f984330",
   "metadata": {},
   "source": [
    "## assigning element to 3D array"
   ]
  },
  {
   "cell_type": "code",
   "execution_count": 14,
   "id": "e3f3e460",
   "metadata": {},
   "outputs": [
    {
     "data": {
      "text/plain": [
       "array([[ 1,  2,  3],\n",
       "       [ 4,  5, 60],\n",
       "       [ 7,  8,  9]])"
      ]
     },
     "execution_count": 14,
     "metadata": {},
     "output_type": "execute_result"
    }
   ],
   "source": [
    "b[1,2]=60\n",
    "b"
   ]
  },
  {
   "cell_type": "code",
   "execution_count": 20,
   "id": "9aa92ea7",
   "metadata": {},
   "outputs": [
    {
     "name": "stdout",
     "output_type": "stream",
     "text": [
      "[[11 12 13]\n",
      " [14 15 16]\n",
      " [17 18 19]]\n",
      "15\n",
      "17\n",
      "19\n",
      "[[ 11  12 130]\n",
      " [ 14  15  16]\n",
      " [ 17 180  19]]\n"
     ]
    }
   ],
   "source": [
    "# access and assign elements of array\n",
    "a=np.arange(11,20)\n",
    "a=np.reshape(a,(3,3))\n",
    "print(a)\n",
    "print(a[1,1])\n",
    "print(a[2,0])\n",
    "print(a[2,2])\n",
    "a[0,2]=130\n",
    "a[2,1]=180\n",
    "print(a)"
   ]
  },
  {
   "cell_type": "markdown",
   "id": "b0f9216d",
   "metadata": {},
   "source": [
    "# Slicing of array"
   ]
  },
  {
   "cell_type": "markdown",
   "id": "e4b49581",
   "metadata": {},
   "source": [
    "## <font color=\"purple\"> 1D array"
   ]
  },
  {
   "cell_type": "code",
   "execution_count": null,
   "id": "283f282a",
   "metadata": {},
   "outputs": [],
   "source": [
    "a=np.arange(1,10)\n",
    "a"
   ]
  },
  {
   "cell_type": "markdown",
   "id": "5c992856",
   "metadata": {},
   "source": [
    "### accessing element by slicing"
   ]
  },
  {
   "cell_type": "code",
   "execution_count": 23,
   "id": "f538a9db",
   "metadata": {},
   "outputs": [
    {
     "name": "stdout",
     "output_type": "stream",
     "text": [
      "[3 4 5 6 7]\n"
     ]
    }
   ],
   "source": [
    "print(a[2:7]) # accessing elements from index 2 to 7 of array"
   ]
  },
  {
   "cell_type": "code",
   "execution_count": 25,
   "id": "0a2eaffa",
   "metadata": {},
   "outputs": [
    {
     "name": "stdout",
     "output_type": "stream",
     "text": [
      "[3 4 5 6 7 8 9]\n"
     ]
    }
   ],
   "source": [
    "print(a[2:]) # accessing elements from index 2 to last index of array"
   ]
  },
  {
   "cell_type": "code",
   "execution_count": 27,
   "id": "f1fe82c9",
   "metadata": {},
   "outputs": [
    {
     "name": "stdout",
     "output_type": "stream",
     "text": [
      "9\n"
     ]
    }
   ],
   "source": [
    "print(a[-1])  # accessing last element of array"
   ]
  },
  {
   "cell_type": "markdown",
   "id": "812137c2",
   "metadata": {},
   "source": [
    "### assigning element by slicing"
   ]
  },
  {
   "cell_type": "code",
   "execution_count": 29,
   "id": "2e36125f",
   "metadata": {},
   "outputs": [
    {
     "name": "stdout",
     "output_type": "stream",
     "text": [
      "[ 1  2  3  4 50 50 50 50 50]\n"
     ]
    }
   ],
   "source": [
    "a[4:]=50 # assigning 4 index to last index element as 50\n",
    "print(a)"
   ]
  },
  {
   "cell_type": "markdown",
   "id": "bf4662fe",
   "metadata": {},
   "source": [
    "## Multi-Dimentional array - Slicing"
   ]
  },
  {
   "cell_type": "code",
   "execution_count": 31,
   "id": "db39c678",
   "metadata": {},
   "outputs": [
    {
     "data": {
      "text/plain": [
       "array([[ 1,  2,  3],\n",
       "       [ 4, 50, 50],\n",
       "       [50, 50, 50]])"
      ]
     },
     "execution_count": 31,
     "metadata": {},
     "output_type": "execute_result"
    }
   ],
   "source": [
    "a=np.reshape(a,(3,3))\n",
    "a"
   ]
  },
  {
   "cell_type": "code",
   "execution_count": 33,
   "id": "4c794c9e",
   "metadata": {},
   "outputs": [
    {
     "data": {
      "text/plain": [
       "array([[11, 12, 13],\n",
       "       [14, 15, 10],\n",
       "       [10, 10, 10]])"
      ]
     },
     "execution_count": 33,
     "metadata": {},
     "output_type": "execute_result"
    }
   ],
   "source": [
    "# Assigning index 5 to last element as 10 then reshape it\n",
    "a=np.arange(11,20)\n",
    "a[5:]=10\n",
    "a=np.reshape(a,(3,3))\n",
    "a"
   ]
  },
  {
   "cell_type": "code",
   "execution_count": 37,
   "id": "8ec0b545",
   "metadata": {},
   "outputs": [
    {
     "name": "stdout",
     "output_type": "stream",
     "text": [
      "Before assignment:\n",
      " [[11 12 13]\n",
      " [14 15 16]\n",
      " [17 18 19]]\n",
      "After assignment:\n",
      " [[11 12 13]\n",
      " [14 15 10]\n",
      " [10 10 10]]\n"
     ]
    }
   ],
   "source": [
    "# reshape and then assignment is done\n",
    "b=np.arange(11,20)\n",
    "b=np.reshape(b,(3,3))\n",
    "print(\"Before assignment:\\n\",b)\n",
    "b[1][2]=10\n",
    "b[2:]=10\n",
    "print(\"After assignment:\\n\",b)"
   ]
  },
  {
   "cell_type": "markdown",
   "id": "66219b3e",
   "metadata": {},
   "source": [
    "# Ellipse :- accessing and assigning whole row and column elements."
   ]
  },
  {
   "cell_type": "code",
   "execution_count": 45,
   "id": "2613a2e2",
   "metadata": {},
   "outputs": [
    {
     "data": {
      "text/plain": [
       "array([[11, 12, 13],\n",
       "       [14, 15, 10],\n",
       "       [10, 10, 10]])"
      ]
     },
     "execution_count": 45,
     "metadata": {},
     "output_type": "execute_result"
    }
   ],
   "source": [
    "b[...] # for accessing whole array using ellipse"
   ]
  },
  {
   "cell_type": "markdown",
   "id": "8324dde9",
   "metadata": {},
   "source": [
    "## For accessing the 0th row by ellipse"
   ]
  },
  {
   "cell_type": "code",
   "execution_count": 38,
   "id": "6b4f1deb",
   "metadata": {},
   "outputs": [
    {
     "name": "stdout",
     "output_type": "stream",
     "text": [
      "[11 12 13]\n"
     ]
    }
   ],
   "source": [
    "print(b[0,...])"
   ]
  },
  {
   "cell_type": "code",
   "execution_count": 40,
   "id": "23604676",
   "metadata": {},
   "outputs": [
    {
     "name": "stdout",
     "output_type": "stream",
     "text": [
      "[14 15 10]\n"
     ]
    }
   ],
   "source": [
    "print(b[1,...]) # 2nd row"
   ]
  },
  {
   "cell_type": "markdown",
   "id": "234facb2",
   "metadata": {},
   "source": [
    "## For accessing the 0th column by ellipse"
   ]
  },
  {
   "cell_type": "code",
   "execution_count": 41,
   "id": "52984ebc",
   "metadata": {},
   "outputs": [
    {
     "name": "stdout",
     "output_type": "stream",
     "text": [
      "[11 14 10]\n"
     ]
    }
   ],
   "source": [
    "print(b[...,0])"
   ]
  },
  {
   "cell_type": "code",
   "execution_count": 42,
   "id": "a7d22ca4",
   "metadata": {},
   "outputs": [
    {
     "name": "stdout",
     "output_type": "stream",
     "text": [
      "[12 15 10]\n"
     ]
    }
   ],
   "source": [
    "print(b[...,1])"
   ]
  },
  {
   "cell_type": "markdown",
   "id": "356cf0a3",
   "metadata": {},
   "source": [
    "## For assigning elements by ellipse"
   ]
  },
  {
   "cell_type": "code",
   "execution_count": 47,
   "id": "de8c4198",
   "metadata": {},
   "outputs": [
    {
     "data": {
      "text/plain": [
       "array([[10, 10, 10],\n",
       "       [10, 10, 10],\n",
       "       [10, 10, 10]])"
      ]
     },
     "execution_count": 47,
     "metadata": {},
     "output_type": "execute_result"
    }
   ],
   "source": [
    "b[...]=10\n",
    "b"
   ]
  },
  {
   "cell_type": "code",
   "execution_count": 56,
   "id": "3fc956cf",
   "metadata": {},
   "outputs": [
    {
     "name": "stdout",
     "output_type": "stream",
     "text": [
      "[[1 2 3]\n",
      " [4 5 6]\n",
      " [7 8 9]] \n",
      "\n",
      "1st index row : \n",
      " [4 5 6] \n",
      "\n",
      "1st index column : \n",
      " [2 5 8] \n",
      "\n"
     ]
    }
   ],
   "source": [
    "# accessing 1st index row and 1st column column of 3D array\n",
    "c=np.arange(1,10)\n",
    "c=np.reshape(c,(3,3))\n",
    "print(c,\"\\n\")\n",
    "print(\"1st index row : \\n\",c[1,...],\"\\n\")\n",
    "print(\"1st index column : \\n\",c[...,1],\"\\n\")"
   ]
  },
  {
   "cell_type": "markdown",
   "id": "be0355ec",
   "metadata": {},
   "source": [
    "# Advanced Indexing :- Accessing elements of array by index array"
   ]
  },
  {
   "cell_type": "code",
   "execution_count": 58,
   "id": "e15c79d5",
   "metadata": {},
   "outputs": [
    {
     "data": {
      "text/plain": [
       "array([ 5,  6,  7,  8,  9, 10, 11, 12, 13, 14, 15])"
      ]
     },
     "execution_count": 58,
     "metadata": {},
     "output_type": "execute_result"
    }
   ],
   "source": [
    "a=np.arange(5,16)\n",
    "a"
   ]
  },
  {
   "cell_type": "code",
   "execution_count": 60,
   "id": "06e51809",
   "metadata": {},
   "outputs": [
    {
     "data": {
      "text/plain": [
       "array([6, 7, 8])"
      ]
     },
     "execution_count": 60,
     "metadata": {},
     "output_type": "execute_result"
    }
   ],
   "source": [
    "index=np.array([1,2,3])\n",
    "a[index] # accessing elements of array by index array"
   ]
  },
  {
   "cell_type": "code",
   "execution_count": 66,
   "id": "5a2533a3",
   "metadata": {},
   "outputs": [
    {
     "name": "stdout",
     "output_type": "stream",
     "text": [
      "[15 16 17 18 19 20 21 22 23 24 25]\n"
     ]
    },
    {
     "data": {
      "text/plain": [
       "array([17, 20, 24])"
      ]
     },
     "execution_count": 66,
     "metadata": {},
     "output_type": "execute_result"
    }
   ],
   "source": [
    "b=np.arange(15,26)\n",
    "print(b)\n",
    "index=np.array([2,5,9]) # accsssing 17 20 24 elements by thier index values\n",
    "b[index]"
   ]
  },
  {
   "cell_type": "markdown",
   "id": "c5850a97",
   "metadata": {},
   "source": [
    "# Bool indexing"
   ]
  },
  {
   "cell_type": "code",
   "execution_count": 68,
   "id": "1bcfeed2",
   "metadata": {},
   "outputs": [
    {
     "name": "stdout",
     "output_type": "stream",
     "text": [
      "[10 15 20 25 30 35 40 45 50 55 60 65 70 75 80 85 90 95]\n"
     ]
    }
   ],
   "source": [
    "c=np.arange(10,100,5)\n",
    "print(c)"
   ]
  },
  {
   "cell_type": "code",
   "execution_count": 70,
   "id": "1584a077",
   "metadata": {},
   "outputs": [
    {
     "name": "stdout",
     "output_type": "stream",
     "text": [
      "[False False False False False False False False  True  True  True  True\n",
      "  True  True  True  True  True  True]\n"
     ]
    }
   ],
   "source": [
    "print(c>45) # if element satisfy condition then it represent True otherwise False"
   ]
  },
  {
   "cell_type": "markdown",
   "id": "39488f2d",
   "metadata": {},
   "source": [
    "## <font color=\"blue\"> make a two matrics of range 1-9(3,3) and 11-19(3,3) and do addition, subtraction, multiplication and division of matrix"
   ]
  },
  {
   "cell_type": "code",
   "execution_count": 76,
   "id": "cd96761d",
   "metadata": {},
   "outputs": [
    {
     "name": "stdout",
     "output_type": "stream",
     "text": [
      "a = \n",
      " [[1 2 3]\n",
      " [4 5 6]\n",
      " [7 8 9]] \n",
      "\n",
      "b = \n",
      " [[11 12 13]\n",
      " [14 15 16]\n",
      " [17 18 19]] \n",
      "\n",
      "Addition of a and b : \n",
      " [[12 14 16]\n",
      " [18 20 22]\n",
      " [24 26 28]] \n",
      "\n",
      "Subtraction of a and b : \n",
      " [[-10 -10 -10]\n",
      " [-10 -10 -10]\n",
      " [-10 -10 -10]] \n",
      "\n",
      "Multiplication of a and b : \n",
      " [[ 11  24  39]\n",
      " [ 56  75  96]\n",
      " [119 144 171]] \n",
      "\n",
      "Division of a and b : \n",
      " [[0.09090909 0.16666667 0.23076923]\n",
      " [0.28571429 0.33333333 0.375     ]\n",
      " [0.41176471 0.44444444 0.47368421]] \n",
      "\n"
     ]
    }
   ],
   "source": [
    "a=np.arange(1,10)\n",
    "a=np.reshape(a,(3,3))\n",
    "b=np.arange(11,20)\n",
    "b=np.reshape(b,(3,3))\n",
    "print(\"a = \\n\",a,\"\\n\")\n",
    "print(\"b = \\n\",b,\"\\n\")\n",
    "print(\"Addition of a and b : \\n\",a+b,\"\\n\")\n",
    "print(\"Subtraction of a and b : \\n\",a-b,\"\\n\")\n",
    "print(\"Multiplication of a and b : \\n\",a*b,\"\\n\")\n",
    "print(\"Division of a and b : \\n\",a/b,\"\\n\")"
   ]
  },
  {
   "cell_type": "code",
   "execution_count": null,
   "id": "3e5d9b11",
   "metadata": {},
   "outputs": [],
   "source": []
  }
 ],
 "metadata": {
  "kernelspec": {
   "display_name": "Python 3 (ipykernel)",
   "language": "python",
   "name": "python3"
  },
  "language_info": {
   "codemirror_mode": {
    "name": "ipython",
    "version": 3
   },
   "file_extension": ".py",
   "mimetype": "text/x-python",
   "name": "python",
   "nbconvert_exporter": "python",
   "pygments_lexer": "ipython3",
   "version": "3.10.9"
  }
 },
 "nbformat": 4,
 "nbformat_minor": 5
}
