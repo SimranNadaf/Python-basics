{
 "cells": [
  {
   "cell_type": "markdown",
   "id": "ad8e106b",
   "metadata": {},
   "source": [
    "# <font color=\"purple\"> Statitics for machine Learning\n",
    "## <font color=\"blue\">Descriptive Statistics :-\n",
    "## <font color=\"red\">Data :- Data come from many sources, sensor measurement, event text, images and videos\n",
    "## much of the data form of data are :-\n",
    "### 1) images with different pixel values\n",
    "### 2) text sequences of words and non word character"
   ]
  },
  {
   "cell_type": "markdown",
   "id": "a1a145cb",
   "metadata": {},
   "source": [
    "## <font color=\"purple\">There are two type of data format :- \n",
    "## 1) un-structured data format\n",
    "## 2) structure data format\n",
    "\n",
    "## <font color=\"red\">Un-structure data must be processed and manipulated to the structure form\n",
    "## <font color=\"red\"> the structure data form in table with rows and columns"
   ]
  },
  {
   "cell_type": "markdown",
   "id": "6d8efb8d",
   "metadata": {},
   "source": [
    "# <font color=\"purple\">Structure data :-\n",
    "## <font color=\"blue\">There are two basic type of structured data:- numeric and categorical"
   ]
  },
  {
   "cell_type": "markdown",
   "id": "a03a7d0d",
   "metadata": {},
   "source": [
    "## <font color=\"red\">Numeri data comes in two forms :-\n",
    "### 1) continuous such as wind speed or time duration\n",
    "### 2) discrete such as count of the occurrence of the event"
   ]
  },
  {
   "cell_type": "markdown",
   "id": "90f814a6",
   "metadata": {},
   "source": [
    "## categorical:- data that can take an only a specific set of values representing a set of possible categorical\n",
    "\n",
    "### Binary :- a special case of categorical data with just two categorical of values(0/1 or true /false)\n",
    "### ordinal:- categorical data that has a explicit ordering"
   ]
  },
  {
   "cell_type": "markdown",
   "id": "ecec5a75",
   "metadata": {},
   "source": [
    "# some keyterms for Rectangular Data\n",
    "## DataFrame :- Rectangular data(like a spreadsheet) is the basic data structure for statistical and machine learning\n",
    "## column :- a column within a table is commanly referred to as a feature or attribute or input\n",
    "## rows:- A row within a table is commanly referred to as a record , it is also know as instance , pattern, sample"
   ]
  },
  {
   "cell_type": "markdown",
   "id": "61674c67",
   "metadata": {},
   "source": [
    "# Key terms for estimated are:- \n",
    "## mean :- the sum of all values divided by the number of values(averange)\n",
    "## Weighted mean :- the sum of all values times a weight divided by the sum of the weights.\n",
    "## Median :- the value such that one half of the data lies above or below (50%)\n",
    "## percentile :- the value such that percent of the data lies below(quantile)"
   ]
  },
  {
   "cell_type": "code",
   "execution_count": null,
   "id": "d37c2895",
   "metadata": {},
   "outputs": [],
   "source": []
  }
 ],
 "metadata": {
  "kernelspec": {
   "display_name": "Python 3 (ipykernel)",
   "language": "python",
   "name": "python3"
  },
  "language_info": {
   "codemirror_mode": {
    "name": "ipython",
    "version": 3
   },
   "file_extension": ".py",
   "mimetype": "text/x-python",
   "name": "python",
   "nbconvert_exporter": "python",
   "pygments_lexer": "ipython3",
   "version": "3.10.9"
  }
 },
 "nbformat": 4,
 "nbformat_minor": 5
}
