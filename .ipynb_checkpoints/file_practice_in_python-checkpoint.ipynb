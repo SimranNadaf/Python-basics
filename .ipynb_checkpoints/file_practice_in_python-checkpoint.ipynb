{
 "cells": [
  {
   "cell_type": "markdown",
   "id": "7cc6e6a8",
   "metadata": {},
   "source": [
    "# creating a file name test2"
   ]
  },
  {
   "cell_type": "code",
   "execution_count": 11,
   "id": "07a25bed",
   "metadata": {},
   "outputs": [
    {
     "name": "stdout",
     "output_type": "stream",
     "text": [
      "Enter text :- 12345678900\n"
     ]
    }
   ],
   "source": [
    "f1=open('test2.txt','w')\n",
    "\n",
    "# enter character from keyboard\n",
    "\n",
    "str1=input(\"Enter text :- \")\n",
    "\n",
    "f1.write(str1)\n",
    "f1.close()"
   ]
  },
  {
   "cell_type": "markdown",
   "id": "5090eb92",
   "metadata": {},
   "source": [
    "# reading character from life"
   ]
  },
  {
   "cell_type": "code",
   "execution_count": 10,
   "id": "2783a284",
   "metadata": {},
   "outputs": [
    {
     "name": "stdout",
     "output_type": "stream",
     "text": [
      "hello everyone....!\n",
      "i am simran nadaf and i am computer engineer\n"
     ]
    }
   ],
   "source": [
    "#open the file for reading data\n",
    "f2=open('test1.txt','r')\n",
    "\n",
    "#read all character from file\n",
    "str2=f2.read()\n",
    "\n",
    "#display them on the screen\n",
    "print(str2)\n",
    "f2.close()"
   ]
  },
  {
   "cell_type": "markdown",
   "id": "f941f28a",
   "metadata": {},
   "source": [
    "## White a program to store a group of string into a text file , until the user not pressing @ symbol"
   ]
  },
  {
   "cell_type": "code",
   "execution_count": 11,
   "id": "69a255b6",
   "metadata": {},
   "outputs": [
    {
     "name": "stdout",
     "output_type": "stream",
     "text": [
      "Enter text(@ at the end to close the file)\n",
      "simran\n"
     ]
    },
    {
     "ename": "TypeError",
     "evalue": "unsupported operand type(s) for +: 'type' and 'str'",
     "output_type": "error",
     "traceback": [
      "\u001b[1;31m---------------------------------------------------------------------------\u001b[0m",
      "\u001b[1;31mTypeError\u001b[0m                                 Traceback (most recent call last)",
      "Cell \u001b[1;32mIn[11], line 7\u001b[0m\n\u001b[0;32m      5\u001b[0m     \u001b[38;5;28mstr\u001b[39m\u001b[38;5;241m!=\u001b[39m\u001b[38;5;28minput\u001b[39m()\n\u001b[0;32m      6\u001b[0m     \u001b[38;5;28;01mif\u001b[39;00m(\u001b[38;5;28mstr\u001b[39m \u001b[38;5;241m!=\u001b[39m \u001b[38;5;124m'\u001b[39m\u001b[38;5;124m@\u001b[39m\u001b[38;5;124m'\u001b[39m):\n\u001b[1;32m----> 7\u001b[0m         f3\u001b[38;5;241m.\u001b[39mwrite(\u001b[38;5;28;43mstr\u001b[39;49m\u001b[38;5;241;43m+\u001b[39;49m\u001b[38;5;124;43m'\u001b[39;49m\u001b[38;5;130;43;01m\\n\u001b[39;49;00m\u001b[38;5;124;43m'\u001b[39;49m)\n\u001b[0;32m      8\u001b[0m \u001b[38;5;66;03m# closing the file\u001b[39;00m\n\u001b[0;32m      9\u001b[0m f3\u001b[38;5;241m.\u001b[39mclose()\n",
      "\u001b[1;31mTypeError\u001b[0m: unsupported operand type(s) for +: 'type' and 'str'"
     ]
    }
   ],
   "source": [
    "f3=open('test4.txt','w')\n",
    "#enter input from keyboard\n",
    "print(\"Enter text(@ at the end to close the file)\")\n",
    "while str !='@':\n",
    "    str!=input()\n",
    "    if(str != '@'):\n",
    "        f3.write(str+'\\n')\n",
    "# closing the file\n",
    "f3.close()"
   ]
  },
  {
   "cell_type": "code",
   "execution_count": null,
   "id": "a0b40e63",
   "metadata": {},
   "outputs": [],
   "source": []
  },
  {
   "cell_type": "code",
   "execution_count": null,
   "id": "8cf9ebd9",
   "metadata": {},
   "outputs": [],
   "source": []
  },
  {
   "cell_type": "code",
   "execution_count": null,
   "id": "26988611",
   "metadata": {},
   "outputs": [],
   "source": []
  },
  {
   "cell_type": "markdown",
   "id": "db73c894",
   "metadata": {},
   "source": [
    "# A python program to append data to an existing file and then displaying the entire file"
   ]
  },
  {
   "cell_type": "code",
   "execution_count": 5,
   "id": "4c7c1283",
   "metadata": {},
   "outputs": [
    {
     "name": "stdout",
     "output_type": "stream",
     "text": [
      "Enter the text to append and end with @\n",
      "simran nadaf\n",
      "@\n",
      "The file content are :- \n",
      "hiiihiiiiisimran nadaf\n"
     ]
    }
   ],
   "source": [
    "f1=open('test1.txt','a+')\n",
    "print(\"Enter the text to append and end with @\")\n",
    "while str!='@':\n",
    "    str=input()\n",
    "    if(str!='@'):\n",
    "        f1.write(str)\n",
    "f1.seek(0,0)\n",
    "print(\"The file content are :- \")\n",
    "str=f1.read()\n",
    "print(str)\n",
    "f1.close()"
   ]
  },
  {
   "cell_type": "code",
   "execution_count": null,
   "id": "d3265c28",
   "metadata": {},
   "outputs": [],
   "source": []
  }
 ],
 "metadata": {
  "kernelspec": {
   "display_name": "Python 3 (ipykernel)",
   "language": "python",
   "name": "python3"
  },
  "language_info": {
   "codemirror_mode": {
    "name": "ipython",
    "version": 3
   },
   "file_extension": ".py",
   "mimetype": "text/x-python",
   "name": "python",
   "nbconvert_exporter": "python",
   "pygments_lexer": "ipython3",
   "version": "3.10.9"
  }
 },
 "nbformat": 4,
 "nbformat_minor": 5
}
