{
 "cells": [
  {
   "cell_type": "code",
   "execution_count": 6,
   "id": "2e53e163",
   "metadata": {},
   "outputs": [],
   "source": [
    "import numpy as np"
   ]
  },
  {
   "cell_type": "markdown",
   "id": "a73fcdf1",
   "metadata": {},
   "source": [
    "# Empty array"
   ]
  },
  {
   "cell_type": "code",
   "execution_count": 8,
   "id": "288b17db",
   "metadata": {},
   "outputs": [
    {
     "name": "stdout",
     "output_type": "stream",
     "text": [
      "[ 6.95178175e-310  1.18928800e-311 -0.00000000e+000]\n"
     ]
    }
   ],
   "source": [
    "emp=np.empty(3)\n",
    "print(emp)"
   ]
  },
  {
   "cell_type": "code",
   "execution_count": 11,
   "id": "ff061f13",
   "metadata": {},
   "outputs": [
    {
     "name": "stdout",
     "output_type": "stream",
     "text": [
      "[[0. 0. 0.]\n",
      " [0. 0. 0.]]\n"
     ]
    }
   ],
   "source": [
    "emp=np.empty((2,3))\n",
    "print(emp)"
   ]
  },
  {
   "cell_type": "code",
   "execution_count": 12,
   "id": "6fdb3a34",
   "metadata": {},
   "outputs": [
    {
     "name": "stdout",
     "output_type": "stream",
     "text": [
      "Help on built-in function empty in module numpy:\n",
      "\n",
      "empty(...)\n",
      "    empty(shape, dtype=float, order='C', *, like=None)\n",
      "    \n",
      "    Return a new array of given shape and type, without initializing entries.\n",
      "    \n",
      "    Parameters\n",
      "    ----------\n",
      "    shape : int or tuple of int\n",
      "        Shape of the empty array, e.g., ``(2, 3)`` or ``2``.\n",
      "    dtype : data-type, optional\n",
      "        Desired output data-type for the array, e.g, `numpy.int8`. Default is\n",
      "        `numpy.float64`.\n",
      "    order : {'C', 'F'}, optional, default: 'C'\n",
      "        Whether to store multi-dimensional data in row-major\n",
      "        (C-style) or column-major (Fortran-style) order in\n",
      "        memory.\n",
      "    like : array_like, optional\n",
      "        Reference object to allow the creation of arrays which are not\n",
      "        NumPy arrays. If an array-like passed in as ``like`` supports\n",
      "        the ``__array_function__`` protocol, the result will be defined\n",
      "        by it. In this case, it ensures the creation of an array object\n",
      "        compatible with that passed in via this argument.\n",
      "    \n",
      "        .. versionadded:: 1.20.0\n",
      "    \n",
      "    Returns\n",
      "    -------\n",
      "    out : ndarray\n",
      "        Array of uninitialized (arbitrary) data of the given shape, dtype, and\n",
      "        order.  Object arrays will be initialized to None.\n",
      "    \n",
      "    See Also\n",
      "    --------\n",
      "    empty_like : Return an empty array with shape and type of input.\n",
      "    ones : Return a new array setting values to one.\n",
      "    zeros : Return a new array setting values to zero.\n",
      "    full : Return a new array of given shape filled with value.\n",
      "    \n",
      "    \n",
      "    Notes\n",
      "    -----\n",
      "    `empty`, unlike `zeros`, does not set the array values to zero,\n",
      "    and may therefore be marginally faster.  On the other hand, it requires\n",
      "    the user to manually set all the values in the array, and should be\n",
      "    used with caution.\n",
      "    \n",
      "    Examples\n",
      "    --------\n",
      "    >>> np.empty([2, 2])\n",
      "    array([[ -9.74499359e+001,   6.69583040e-309],\n",
      "           [  2.13182611e-314,   3.06959433e-309]])         #uninitialized\n",
      "    \n",
      "    >>> np.empty([2, 2], dtype=int)\n",
      "    array([[-1073741821, -1067949133],\n",
      "           [  496041986,    19249760]])                     #uninitialized\n",
      "\n"
     ]
    }
   ],
   "source": [
    "help(np.empty)"
   ]
  },
  {
   "cell_type": "markdown",
   "id": "74b7016b",
   "metadata": {},
   "source": [
    "# Zero Array"
   ]
  },
  {
   "cell_type": "code",
   "execution_count": 14,
   "id": "2571a737",
   "metadata": {},
   "outputs": [
    {
     "name": "stdout",
     "output_type": "stream",
     "text": [
      "[[0. 0. 0. 0.]\n",
      " [0. 0. 0. 0.]\n",
      " [0. 0. 0. 0.]\n",
      " [0. 0. 0. 0.]]\n"
     ]
    }
   ],
   "source": [
    "zero=np.zeros((4,4),dtype=\"float64\")\n",
    "print(zero)"
   ]
  },
  {
   "cell_type": "code",
   "execution_count": 15,
   "id": "f02e4929",
   "metadata": {},
   "outputs": [
    {
     "name": "stdout",
     "output_type": "stream",
     "text": [
      "[[0 0 0 0]\n",
      " [0 0 0 0]\n",
      " [0 0 0 0]\n",
      " [0 0 0 0]]\n"
     ]
    }
   ],
   "source": [
    "zero=np.zeros((4,4),dtype=\"int32\")\n",
    "print(zero)"
   ]
  },
  {
   "cell_type": "code",
   "execution_count": 16,
   "id": "2665a201",
   "metadata": {},
   "outputs": [
    {
     "name": "stdout",
     "output_type": "stream",
     "text": [
      "[[0.+0.j 0.+0.j 0.+0.j 0.+0.j]\n",
      " [0.+0.j 0.+0.j 0.+0.j 0.+0.j]\n",
      " [0.+0.j 0.+0.j 0.+0.j 0.+0.j]\n",
      " [0.+0.j 0.+0.j 0.+0.j 0.+0.j]]\n"
     ]
    }
   ],
   "source": [
    "zero=np.zeros((4,4),dtype=\"complex\")\n",
    "print(zero)"
   ]
  },
  {
   "cell_type": "markdown",
   "id": "81f79207",
   "metadata": {},
   "source": [
    "# Ones Array"
   ]
  },
  {
   "cell_type": "code",
   "execution_count": 18,
   "id": "d8f6379a",
   "metadata": {},
   "outputs": [
    {
     "name": "stdout",
     "output_type": "stream",
     "text": [
      "[[1. 1.]\n",
      " [1. 1.]]\n"
     ]
    }
   ],
   "source": [
    "one=np.ones((2,2),dtype=\"float64\")\n",
    "print(one)"
   ]
  },
  {
   "cell_type": "markdown",
   "id": "4938f07b",
   "metadata": {},
   "source": [
    "# Identical matrix\n",
    "## return 2d array with digonal and zeros elsewhere"
   ]
  },
  {
   "cell_type": "code",
   "execution_count": 21,
   "id": "007bae54",
   "metadata": {},
   "outputs": [
    {
     "name": "stdout",
     "output_type": "stream",
     "text": [
      "[[1. 0. 0. 0. 0.]\n",
      " [0. 1. 0. 0. 0.]\n",
      " [0. 0. 1. 0. 0.]\n",
      " [0. 0. 0. 1. 0.]\n",
      " [0. 0. 0. 0. 1.]]\n"
     ]
    }
   ],
   "source": [
    "eye=np.eye(5)\n",
    "print(eye)"
   ]
  },
  {
   "cell_type": "markdown",
   "id": "88bc3e37",
   "metadata": {},
   "source": [
    "# Full Array :- it fill the given number"
   ]
  },
  {
   "cell_type": "code",
   "execution_count": 24,
   "id": "bf9b7c40",
   "metadata": {},
   "outputs": [
    {
     "name": "stdout",
     "output_type": "stream",
     "text": [
      "[[5 5 5 5 5]\n",
      " [5 5 5 5 5]\n",
      " [5 5 5 5 5]\n",
      " [5 5 5 5 5]\n",
      " [5 5 5 5 5]]\n"
     ]
    }
   ],
   "source": [
    "f=np.full(shape=(5,5),fill_value=5,dtype=\"int32\")\n",
    "print(f)"
   ]
  },
  {
   "cell_type": "markdown",
   "id": "b557762b",
   "metadata": {},
   "source": [
    "# np.arange :- it return an array of given range"
   ]
  },
  {
   "cell_type": "code",
   "execution_count": 25,
   "id": "a7b84ef9",
   "metadata": {},
   "outputs": [
    {
     "name": "stdout",
     "output_type": "stream",
     "text": [
      "[ 1  2  3  4  5  6  7  8  9 10 11 12 13 14 15 16 17 18 19 20]\n"
     ]
    }
   ],
   "source": [
    "arr=np.arange(1,21)\n",
    "print(arr)"
   ]
  },
  {
   "cell_type": "code",
   "execution_count": 26,
   "id": "ad366e9d",
   "metadata": {},
   "outputs": [
    {
     "name": "stdout",
     "output_type": "stream",
     "text": [
      "1\n"
     ]
    }
   ],
   "source": [
    "print(np.ndim(arr))"
   ]
  },
  {
   "cell_type": "markdown",
   "id": "559f04cd",
   "metadata": {},
   "source": [
    "# np.reshape :- it change the shape(dimention) of array"
   ]
  },
  {
   "cell_type": "code",
   "execution_count": 27,
   "id": "9d95abf5",
   "metadata": {},
   "outputs": [],
   "source": [
    "b=np.reshape(arr,(4,5))"
   ]
  },
  {
   "cell_type": "code",
   "execution_count": 30,
   "id": "6b5d8908",
   "metadata": {},
   "outputs": [
    {
     "name": "stdout",
     "output_type": "stream",
     "text": [
      "[[ 1  2  3  4  5]\n",
      " [ 6  7  8  9 10]\n",
      " [11 12 13 14 15]\n",
      " [16 17 18 19 20]]\n",
      "2\n"
     ]
    }
   ],
   "source": [
    "print(b)\n",
    "print(b.ndim)"
   ]
  },
  {
   "cell_type": "markdown",
   "id": "66fbd2e2",
   "metadata": {},
   "source": [
    "# Odd number array using np"
   ]
  },
  {
   "cell_type": "code",
   "execution_count": 32,
   "id": "d1bc1623",
   "metadata": {},
   "outputs": [
    {
     "name": "stdout",
     "output_type": "stream",
     "text": [
      "[ 1  3  5  7  9 11 13 15 17 19 21 23 25 27 29 31 33 35 37 39]\n",
      "[[ 1  3  5  7  9 11 13 15 17 19]\n",
      " [21 23 25 27 29 31 33 35 37 39]]\n"
     ]
    }
   ],
   "source": [
    "n=np.arange(1,41,2)\n",
    "print(n)\n",
    "## reshape it as (2,10)\n",
    "odd=np.reshape(n,(2,10))\n",
    "print(odd)"
   ]
  },
  {
   "cell_type": "markdown",
   "id": "5c1759c7",
   "metadata": {},
   "source": [
    "# Even number array using np"
   ]
  },
  {
   "cell_type": "code",
   "execution_count": 34,
   "id": "c3dff23d",
   "metadata": {},
   "outputs": [
    {
     "name": "stdout",
     "output_type": "stream",
     "text": [
      "[ 2  4  6  8 10 12 14 16 18 20 22 24 26 28 30 32 34 36 38 40]\n",
      "[[ 2  4  6  8 10 12 14 16 18 20]\n",
      " [22 24 26 28 30 32 34 36 38 40]]\n"
     ]
    }
   ],
   "source": [
    "n=np.arange(2,41,2)\n",
    "print(n)\n",
    "## reshape it as (2,10)\n",
    "even=np.reshape(n,(2,10))\n",
    "print(even)"
   ]
  },
  {
   "cell_type": "code",
   "execution_count": 35,
   "id": "95e51061",
   "metadata": {},
   "outputs": [
    {
     "name": "stdout",
     "output_type": "stream",
     "text": [
      "[ 0.   0.1  0.2  0.3  0.4  0.5  0.6  0.7  0.8  0.9  1.   1.1  1.2  1.3\n",
      "  1.4  1.5  1.6  1.7  1.8  1.9  2.   2.1  2.2  2.3  2.4  2.5  2.6  2.7\n",
      "  2.8  2.9  3.   3.1  3.2  3.3  3.4  3.5  3.6  3.7  3.8  3.9  4.   4.1\n",
      "  4.2  4.3  4.4  4.5  4.6  4.7  4.8  4.9  5.   5.1  5.2  5.3  5.4  5.5\n",
      "  5.6  5.7  5.8  5.9  6.   6.1  6.2  6.3  6.4  6.5  6.6  6.7  6.8  6.9\n",
      "  7.   7.1  7.2  7.3  7.4  7.5  7.6  7.7  7.8  7.9  8.   8.1  8.2  8.3\n",
      "  8.4  8.5  8.6  8.7  8.8  8.9  9.   9.1  9.2  9.3  9.4  9.5  9.6  9.7\n",
      "  9.8  9.9 10.  10.1 10.2 10.3 10.4 10.5 10.6 10.7 10.8 10.9 11.  11.1\n",
      " 11.2 11.3 11.4 11.5 11.6 11.7 11.8 11.9 12.  12.1 12.2 12.3 12.4 12.5]\n"
     ]
    }
   ],
   "source": [
    "x=np.arange(0,np.pi*4,0.1)\n",
    "print(x)"
   ]
  },
  {
   "cell_type": "code",
   "execution_count": 37,
   "id": "4786c086",
   "metadata": {},
   "outputs": [
    {
     "name": "stdout",
     "output_type": "stream",
     "text": [
      "[ 0.          0.09983342  0.19866933  0.29552021  0.38941834  0.47942554\n",
      "  0.56464247  0.64421769  0.71735609  0.78332691  0.84147098  0.89120736\n",
      "  0.93203909  0.96355819  0.98544973  0.99749499  0.9995736   0.99166481\n",
      "  0.97384763  0.94630009  0.90929743  0.86320937  0.8084964   0.74570521\n",
      "  0.67546318  0.59847214  0.51550137  0.42737988  0.33498815  0.23924933\n",
      "  0.14112001  0.04158066 -0.05837414 -0.15774569 -0.2555411  -0.35078323\n",
      " -0.44252044 -0.52983614 -0.61185789 -0.68776616 -0.7568025  -0.81827711\n",
      " -0.87157577 -0.91616594 -0.95160207 -0.97753012 -0.993691   -0.99992326\n",
      " -0.99616461 -0.98245261 -0.95892427 -0.92581468 -0.88345466 -0.83226744\n",
      " -0.77276449 -0.70554033 -0.63126664 -0.55068554 -0.46460218 -0.37387666\n",
      " -0.2794155  -0.1821625  -0.0830894   0.0168139   0.1165492   0.21511999\n",
      "  0.31154136  0.40484992  0.49411335  0.57843976  0.6569866   0.72896904\n",
      "  0.79366786  0.85043662  0.8987081   0.93799998  0.96791967  0.98816823\n",
      "  0.99854335  0.99894134  0.98935825  0.96988981  0.94073056  0.90217183\n",
      "  0.85459891  0.79848711  0.7343971   0.66296923  0.58491719  0.50102086\n",
      "  0.41211849  0.31909836  0.22288991  0.12445442  0.02477543 -0.07515112\n",
      " -0.17432678 -0.27176063 -0.36647913 -0.45753589 -0.54402111 -0.62507065\n",
      " -0.69987469 -0.76768581 -0.82782647 -0.87969576 -0.92277542 -0.95663502\n",
      " -0.98093623 -0.99543625 -0.99999021 -0.99455259 -0.97917773 -0.95401925\n",
      " -0.91932853 -0.87545217 -0.82282859 -0.76198358 -0.69352508 -0.61813711\n",
      " -0.53657292 -0.44964746 -0.35822928 -0.26323179 -0.16560418 -0.0663219 ]\n",
      "[ 1.          0.99500417  0.98006658  0.95533649  0.92106099  0.87758256\n",
      "  0.82533561  0.76484219  0.69670671  0.62160997  0.54030231  0.45359612\n",
      "  0.36235775  0.26749883  0.16996714  0.0707372  -0.02919952 -0.12884449\n",
      " -0.22720209 -0.32328957 -0.41614684 -0.5048461  -0.58850112 -0.66627602\n",
      " -0.73739372 -0.80114362 -0.85688875 -0.90407214 -0.94222234 -0.97095817\n",
      " -0.9899925  -0.99913515 -0.99829478 -0.98747977 -0.96679819 -0.93645669\n",
      " -0.89675842 -0.84810003 -0.79096771 -0.7259323  -0.65364362 -0.57482395\n",
      " -0.49026082 -0.40079917 -0.30733287 -0.2107958  -0.11215253 -0.01238866\n",
      "  0.08749898  0.18651237  0.28366219  0.37797774  0.46851667  0.55437434\n",
      "  0.63469288  0.70866977  0.77556588  0.83471278  0.88551952  0.92747843\n",
      "  0.96017029  0.98326844  0.9965421   0.99985864  0.99318492  0.97658763\n",
      "  0.95023259  0.91438315  0.86939749  0.8157251   0.75390225  0.68454667\n",
      "  0.60835131  0.52607752  0.43854733  0.34663532  0.25125984  0.15337386\n",
      "  0.05395542 -0.04600213 -0.14550003 -0.24354415 -0.33915486 -0.43137684\n",
      " -0.51928865 -0.6020119  -0.67872005 -0.74864665 -0.81109301 -0.86543521\n",
      " -0.91113026 -0.9477216  -0.97484362 -0.99222533 -0.99969304 -0.99717216\n",
      " -0.98468786 -0.96236488 -0.93042627 -0.88919115 -0.83907153 -0.78056818\n",
      " -0.71426565 -0.64082642 -0.56098426 -0.47553693 -0.38533819 -0.29128928\n",
      " -0.19432991 -0.09542885  0.0044257   0.10423603  0.20300486  0.29974534\n",
      "  0.39349087  0.48330476  0.56828963  0.64759634  0.72043248  0.7860703\n",
      "  0.84385396  0.89320611  0.93363364  0.96473262  0.9861923   0.99779828]\n",
      "[ 0.00000000e+00  1.00334672e-01  2.02710036e-01  3.09336250e-01\n",
      "  4.22793219e-01  5.46302490e-01  6.84136808e-01  8.42288380e-01\n",
      "  1.02963856e+00  1.26015822e+00  1.55740772e+00  1.96475966e+00\n",
      "  2.57215162e+00  3.60210245e+00  5.79788372e+00  1.41014199e+01\n",
      " -3.42325327e+01 -7.69660214e+00 -4.28626167e+00 -2.92709751e+00\n",
      " -2.18503986e+00 -1.70984654e+00 -1.37382306e+00 -1.11921364e+00\n",
      " -9.16014290e-01 -7.47022297e-01 -6.01596613e-01 -4.72727629e-01\n",
      " -3.55529832e-01 -2.46405394e-01 -1.42546543e-01 -4.16166546e-02\n",
      "  5.84738545e-02  1.59745748e-01  2.64316901e-01  3.74585640e-01\n",
      "  4.93466730e-01  6.24733075e-01  7.73556091e-01  9.47424650e-01\n",
      "  1.15782128e+00  1.42352648e+00  1.77777977e+00  2.28584788e+00\n",
      "  3.09632378e+00  4.63733205e+00  8.86017490e+00  8.07127630e+01\n",
      " -1.13848707e+01 -5.26749307e+00 -3.38051501e+00 -2.44938942e+00\n",
      " -1.88564188e+00 -1.50127340e+00 -1.21754082e+00 -9.95584052e-01\n",
      " -8.13943284e-01 -6.59730572e-01 -5.24666222e-01 -4.03110900e-01\n",
      " -2.91006191e-01 -1.85262231e-01 -8.33777149e-02  1.68162777e-02\n",
      "  1.17348947e-01  2.20277200e-01  3.27858007e-01  4.42757417e-01\n",
      "  5.68339979e-01  7.09111151e-01  8.71447983e-01  1.06489313e+00\n",
      "  1.30462094e+00  1.61656142e+00  2.04928417e+00  2.70601387e+00\n",
      "  3.85226569e+00  6.44287247e+00  1.85068216e+01 -2.17151127e+01\n",
      " -6.79971146e+00 -3.98239825e+00 -2.77374930e+00 -2.09137751e+00\n",
      " -1.64571073e+00 -1.32636433e+00 -1.08203242e+00 -8.85556937e-01\n",
      " -7.21146876e-01 -5.78923588e-01 -4.52315659e-01 -3.36700526e-01\n",
      " -2.28641712e-01 -1.25429598e-01 -2.47830328e-02  7.53642388e-02\n",
      "  1.77037607e-01  2.82388346e-01  3.93883041e-01  5.14552908e-01\n",
      "  6.48360827e-01  8.00789303e-01  9.79852084e-01  1.19796218e+00\n",
      "  1.47566791e+00  1.84989999e+00  2.39471572e+00  3.28414081e+00\n",
      "  5.04778831e+00  1.04311877e+01 -2.25950846e+02 -9.54135166e+00\n",
      " -4.82342004e+00 -3.18276588e+00 -2.33634019e+00 -1.81138745e+00\n",
      " -1.44790359e+00 -1.17663356e+00 -9.62651053e-01 -7.86363656e-01\n",
      " -6.35859929e-01 -5.03408406e-01 -3.83693630e-01 -2.72854661e-01\n",
      " -1.67922803e-01 -6.64682419e-02]\n"
     ]
    }
   ],
   "source": [
    "x=np.arange(0,np.pi*4,0.1)\n",
    "y1=np.sin(x)\n",
    "y2=np.cos(x)\n",
    "y3=np.tan(x)\n",
    "print(y1)\n",
    "print(y2)\n",
    "print(y3)"
   ]
  },
  {
   "cell_type": "code",
   "execution_count": 39,
   "id": "3988f91e",
   "metadata": {},
   "outputs": [
    {
     "data": {
      "text/plain": [
       "[<matplotlib.lines.Line2D at 0x230797a5e40>]"
      ]
     },
     "execution_count": 39,
     "metadata": {},
     "output_type": "execute_result"
    },
    {
     "data": {
      "image/png": "[encoded data removed]",
      "text/plain": [
       "<Figure size 1000x400 with 3 Axes>"
      ]
     },
     "metadata": {},
     "output_type": "display_data"
    }
   ],
   "source": [
    "import matplotlib.pyplot as plt\n",
    "fig=plt.figure(figsize=(10,4))\n",
    "plt.subplot(1,3,1)\n",
    "plt.title(\"sinx\")\n",
    "plt.plot(x,y1)\n",
    "\n",
    "plt.subplot(1,3,2)\n",
    "plt.title(\"conx\")\n",
    "plt.plot(x,y2)\n",
    "\n",
    "plt.subplot(1,3,3)\n",
    "plt.title(\"Tanx\")\n",
    "plt.plot(x,y3)"
   ]
  },
  {
   "cell_type": "markdown",
   "id": "a82d4283",
   "metadata": {},
   "source": [
    "# Linspace"
   ]
  },
  {
   "cell_type": "code",
   "execution_count": 41,
   "id": "04b8278b",
   "metadata": {},
   "outputs": [
    {
     "name": "stdout",
     "output_type": "stream",
     "text": [
      "Help on function linspace in module numpy:\n",
      "\n",
      "linspace(start, stop, num=50, endpoint=True, retstep=False, dtype=None, axis=0)\n",
      "    Return evenly spaced numbers over a specified interval.\n",
      "    \n",
      "    Returns `num` evenly spaced samples, calculated over the\n",
      "    interval [`start`, `stop`].\n",
      "    \n",
      "    The endpoint of the interval can optionally be excluded.\n",
      "    \n",
      "    .. versionchanged:: 1.16.0\n",
      "        Non-scalar `start` and `stop` are now supported.\n",
      "    \n",
      "    .. versionchanged:: 1.20.0\n",
      "        Values are rounded towards ``-inf`` instead of ``0`` when an\n",
      "        integer ``dtype`` is specified. The old behavior can\n",
      "        still be obtained with ``np.linspace(start, stop, num).astype(int)``\n",
      "    \n",
      "    Parameters\n",
      "    ----------\n",
      "    start : array_like\n",
      "        The starting value of the sequence.\n",
      "    stop : array_like\n",
      "        The end value of the sequence, unless `endpoint` is set to False.\n",
      "        In that case, the sequence consists of all but the last of ``num + 1``\n",
      "        evenly spaced samples, so that `stop` is excluded.  Note that the step\n",
      "        size changes when `endpoint` is False.\n",
      "    num : int, optional\n",
      "        Number of samples to generate. Default is 50. Must be non-negative.\n",
      "    endpoint : bool, optional\n",
      "        If True, `stop` is the last sample. Otherwise, it is not included.\n",
      "        Default is True.\n",
      "    retstep : bool, optional\n",
      "        If True, return (`samples`, `step`), where `step` is the spacing\n",
      "        between samples.\n",
      "    dtype : dtype, optional\n",
      "        The type of the output array.  If `dtype` is not given, the data type\n",
      "        is inferred from `start` and `stop`. The inferred dtype will never be\n",
      "        an integer; `float` is chosen even if the arguments would produce an\n",
      "        array of integers.\n",
      "    \n",
      "        .. versionadded:: 1.9.0\n",
      "    \n",
      "    axis : int, optional\n",
      "        The axis in the result to store the samples.  Relevant only if start\n",
      "        or stop are array-like.  By default (0), the samples will be along a\n",
      "        new axis inserted at the beginning. Use -1 to get an axis at the end.\n",
      "    \n",
      "        .. versionadded:: 1.16.0\n",
      "    \n",
      "    Returns\n",
      "    -------\n",
      "    samples : ndarray\n",
      "        There are `num` equally spaced samples in the closed interval\n",
      "        ``[start, stop]`` or the half-open interval ``[start, stop)``\n",
      "        (depending on whether `endpoint` is True or False).\n",
      "    step : float, optional\n",
      "        Only returned if `retstep` is True\n",
      "    \n",
      "        Size of spacing between samples.\n",
      "    \n",
      "    \n",
      "    See Also\n",
      "    --------\n",
      "    arange : Similar to `linspace`, but uses a step size (instead of the\n",
      "             number of samples).\n",
      "    geomspace : Similar to `linspace`, but with numbers spaced evenly on a log\n",
      "                scale (a geometric progression).\n",
      "    logspace : Similar to `geomspace`, but with the end points specified as\n",
      "               logarithms.\n",
      "    \n",
      "    Examples\n",
      "    --------\n",
      "    >>> np.linspace(2.0, 3.0, num=5)\n",
      "    array([2.  , 2.25, 2.5 , 2.75, 3.  ])\n",
      "    >>> np.linspace(2.0, 3.0, num=5, endpoint=False)\n",
      "    array([2. ,  2.2,  2.4,  2.6,  2.8])\n",
      "    >>> np.linspace(2.0, 3.0, num=5, retstep=True)\n",
      "    (array([2.  ,  2.25,  2.5 ,  2.75,  3.  ]), 0.25)\n",
      "    \n",
      "    Graphical illustration:\n",
      "    \n",
      "    >>> import matplotlib.pyplot as plt\n",
      "    >>> N = 8\n",
      "    >>> y = np.zeros(N)\n",
      "    >>> x1 = np.linspace(0, 10, N, endpoint=True)\n",
      "    >>> x2 = np.linspace(0, 10, N, endpoint=False)\n",
      "    >>> plt.plot(x1, y, 'o')\n",
      "    [<matplotlib.lines.Line2D object at 0x...>]\n",
      "    >>> plt.plot(x2, y + 0.5, 'o')\n",
      "    [<matplotlib.lines.Line2D object at 0x...>]\n",
      "    >>> plt.ylim([-0.5, 1])\n",
      "    (-0.5, 1)\n",
      "    >>> plt.show()\n",
      "\n"
     ]
    }
   ],
   "source": [
    "help(np.linspace)"
   ]
  },
  {
   "cell_type": "code",
   "execution_count": 45,
   "id": "65861b26",
   "metadata": {},
   "outputs": [
    {
     "name": "stdout",
     "output_type": "stream",
     "text": [
      "[1.         1.02040816 1.04081633 1.06122449 1.08163265 1.10204082\n",
      " 1.12244898 1.14285714 1.16326531 1.18367347 1.20408163 1.2244898\n",
      " 1.24489796 1.26530612 1.28571429 1.30612245 1.32653061 1.34693878\n",
      " 1.36734694 1.3877551  1.40816327 1.42857143 1.44897959 1.46938776\n",
      " 1.48979592 1.51020408 1.53061224 1.55102041 1.57142857 1.59183673\n",
      " 1.6122449  1.63265306 1.65306122 1.67346939 1.69387755 1.71428571\n",
      " 1.73469388 1.75510204 1.7755102  1.79591837 1.81632653 1.83673469\n",
      " 1.85714286 1.87755102 1.89795918 1.91836735 1.93877551 1.95918367\n",
      " 1.97959184 2.        ]\n",
      "50\n"
     ]
    }
   ],
   "source": [
    "li=np.linspace(1,2)\n",
    "print(li)\n",
    "print(li.size)"
   ]
  },
  {
   "cell_type": "code",
   "execution_count": 49,
   "id": "59920db2",
   "metadata": {},
   "outputs": [
    {
     "name": "stdout",
     "output_type": "stream",
     "text": [
      "(array([1.        , 1.02040816, 1.04081633, 1.06122449, 1.08163265,\n",
      "       1.10204082, 1.12244898, 1.14285714, 1.16326531, 1.18367347,\n",
      "       1.20408163, 1.2244898 , 1.24489796, 1.26530612, 1.28571429,\n",
      "       1.30612245, 1.32653061, 1.34693878, 1.36734694, 1.3877551 ,\n",
      "       1.40816327, 1.42857143, 1.44897959, 1.46938776, 1.48979592,\n",
      "       1.51020408, 1.53061224, 1.55102041, 1.57142857, 1.59183673,\n",
      "       1.6122449 , 1.63265306, 1.65306122, 1.67346939, 1.69387755,\n",
      "       1.71428571, 1.73469388, 1.75510204, 1.7755102 , 1.79591837,\n",
      "       1.81632653, 1.83673469, 1.85714286, 1.87755102, 1.89795918,\n",
      "       1.91836735, 1.93877551, 1.95918367, 1.97959184, 2.        ]), 0.02040816326530612)\n"
     ]
    }
   ],
   "source": [
    "li=np.linspace(1,2,retstep=True) # retstep :- shows different between two numbers\n",
    "print(li)"
   ]
  },
  {
   "cell_type": "code",
   "execution_count": 50,
   "id": "80423e19",
   "metadata": {},
   "outputs": [
    {
     "name": "stdout",
     "output_type": "stream",
     "text": [
      "(array([1.  , 1.25, 1.5 , 1.75, 2.  ]), 0.25)\n"
     ]
    }
   ],
   "source": [
    "li=np.linspace(1,2,5,retstep=True) # retstep :- shows different between two numbers\n",
    "print(li)"
   ]
  },
  {
   "cell_type": "markdown",
   "id": "862785d7",
   "metadata": {},
   "source": [
    "# logspace"
   ]
  },
  {
   "cell_type": "code",
   "execution_count": 51,
   "id": "a010e74f",
   "metadata": {},
   "outputs": [
    {
     "name": "stdout",
     "output_type": "stream",
     "text": [
      "Help on function logspace in module numpy:\n",
      "\n",
      "logspace(start, stop, num=50, endpoint=True, base=10.0, dtype=None, axis=0)\n",
      "    Return numbers spaced evenly on a log scale.\n",
      "    \n",
      "    In linear space, the sequence starts at ``base ** start``\n",
      "    (`base` to the power of `start`) and ends with ``base ** stop``\n",
      "    (see `endpoint` below).\n",
      "    \n",
      "    .. versionchanged:: 1.16.0\n",
      "        Non-scalar `start` and `stop` are now supported.\n",
      "    \n",
      "    Parameters\n",
      "    ----------\n",
      "    start : array_like\n",
      "        ``base ** start`` is the starting value of the sequence.\n",
      "    stop : array_like\n",
      "        ``base ** stop`` is the final value of the sequence, unless `endpoint`\n",
      "        is False.  In that case, ``num + 1`` values are spaced over the\n",
      "        interval in log-space, of which all but the last (a sequence of\n",
      "        length `num`) are returned.\n",
      "    num : integer, optional\n",
      "        Number of samples to generate.  Default is 50.\n",
      "    endpoint : boolean, optional\n",
      "        If true, `stop` is the last sample. Otherwise, it is not included.\n",
      "        Default is True.\n",
      "    base : array_like, optional\n",
      "        The base of the log space. The step size between the elements in\n",
      "        ``ln(samples) / ln(base)`` (or ``log_base(samples)``) is uniform.\n",
      "        Default is 10.0.\n",
      "    dtype : dtype\n",
      "        The type of the output array.  If `dtype` is not given, the data type\n",
      "        is inferred from `start` and `stop`. The inferred type will never be\n",
      "        an integer; `float` is chosen even if the arguments would produce an\n",
      "        array of integers.\n",
      "    axis : int, optional\n",
      "        The axis in the result to store the samples.  Relevant only if start\n",
      "        or stop are array-like.  By default (0), the samples will be along a\n",
      "        new axis inserted at the beginning. Use -1 to get an axis at the end.\n",
      "    \n",
      "        .. versionadded:: 1.16.0\n",
      "    \n",
      "    \n",
      "    Returns\n",
      "    -------\n",
      "    samples : ndarray\n",
      "        `num` samples, equally spaced on a log scale.\n",
      "    \n",
      "    See Also\n",
      "    --------\n",
      "    arange : Similar to linspace, with the step size specified instead of the\n",
      "             number of samples. Note that, when used with a float endpoint, the\n",
      "             endpoint may or may not be included.\n",
      "    linspace : Similar to logspace, but with the samples uniformly distributed\n",
      "               in linear space, instead of log space.\n",
      "    geomspace : Similar to logspace, but with endpoints specified directly.\n",
      "    \n",
      "    Notes\n",
      "    -----\n",
      "    Logspace is equivalent to the code\n",
      "    \n",
      "    >>> y = np.linspace(start, stop, num=num, endpoint=endpoint)\n",
      "    ... # doctest: +SKIP\n",
      "    >>> power(base, y).astype(dtype)\n",
      "    ... # doctest: +SKIP\n",
      "    \n",
      "    Examples\n",
      "    --------\n",
      "    >>> np.logspace(2.0, 3.0, num=4)\n",
      "    array([ 100.        ,  215.443469  ,  464.15888336, 1000.        ])\n",
      "    >>> np.logspace(2.0, 3.0, num=4, endpoint=False)\n",
      "    array([100.        ,  177.827941  ,  316.22776602,  562.34132519])\n",
      "    >>> np.logspace(2.0, 3.0, num=4, base=2.0)\n",
      "    array([4.        ,  5.0396842 ,  6.34960421,  8.        ])\n",
      "    \n",
      "    Graphical illustration:\n",
      "    \n",
      "    >>> import matplotlib.pyplot as plt\n",
      "    >>> N = 10\n",
      "    >>> x1 = np.logspace(0.1, 1, N, endpoint=True)\n",
      "    >>> x2 = np.logspace(0.1, 1, N, endpoint=False)\n",
      "    >>> y = np.zeros(N)\n",
      "    >>> plt.plot(x1, y, 'o')\n",
      "    [<matplotlib.lines.Line2D object at 0x...>]\n",
      "    >>> plt.plot(x2, y + 0.5, 'o')\n",
      "    [<matplotlib.lines.Line2D object at 0x...>]\n",
      "    >>> plt.ylim([-0.5, 1])\n",
      "    (-0.5, 1)\n",
      "    >>> plt.show()\n",
      "\n"
     ]
    }
   ],
   "source": [
    "help(np.logspace)"
   ]
  },
  {
   "cell_type": "code",
   "execution_count": 55,
   "id": "4f088114",
   "metadata": {},
   "outputs": [
    {
     "name": "stdout",
     "output_type": "stream",
     "text": [
      "[  1.           1.09854114   1.20679264   1.32571137   1.45634848\n",
      "   1.59985872   1.75751062   1.93069773   2.12095089   2.32995181\n",
      "   2.55954792   2.8117687    3.0888436    3.39322177   3.72759372\n",
      "   4.09491506   4.49843267   4.94171336   5.42867544   5.96362332\n",
      "   6.55128557   7.19685673   7.90604321   8.68511374   9.54095476\n",
      "  10.48113134  11.51395399  12.64855217  13.89495494  15.26417967\n",
      "  16.76832937  18.42069969  20.23589648  22.22996483  24.42053095\n",
      "  26.82695795  29.47051703  32.37457543  35.56480306  39.06939937\n",
      "  42.9193426   47.14866363  51.79474679  56.89866029  62.50551925\n",
      "  68.6648845   75.43120063  82.86427729  91.0298178  100.        ]\n"
     ]
    }
   ],
   "source": [
    "li=np.logspace(0,2) # each element as base ** element , base default=10\n",
    "print(li)"
   ]
  },
  {
   "cell_type": "code",
   "execution_count": 56,
   "id": "6ecee2cc",
   "metadata": {},
   "outputs": [
    {
     "name": "stdout",
     "output_type": "stream",
     "text": [
      "[ 1.          1.06789705  1.14040412  1.21783419  1.30052155  1.38882313\n",
      "  1.48312012  1.58381961  1.69135629  1.8061944   1.92882968  2.05979153\n",
      "  2.1996453   2.34899473  2.50848455  2.67880326  2.86068611  3.05491826\n",
      "  3.26233821  3.48384136  3.72038392  3.97298702  4.24274113  4.53081075\n",
      "  4.83843945  5.16695523  5.51777626  5.892417    6.29249475  6.7197366\n",
      "  7.17598691  7.66321527  8.18352501  8.73916224  9.3325256   9.96617658\n",
      " 10.6428506  11.36546878 12.13715062 12.96122737 13.84125651 14.78103704\n",
      " 15.78462589 16.85635547 18.00085232 19.22305714 20.52824607 21.92205348\n",
      " 23.4104963  25.        ]\n"
     ]
    }
   ],
   "source": [
    "li=np.logspace(0,2,base=5) # 5 ** element\n",
    "print(li)"
   ]
  },
  {
   "cell_type": "markdown",
   "id": "0bb76052",
   "metadata": {},
   "source": [
    "# asarray :- it is used to convert list and tuple into numpy array"
   ]
  },
  {
   "cell_type": "code",
   "execution_count": 57,
   "id": "364deef0",
   "metadata": {},
   "outputs": [
    {
     "name": "stdout",
     "output_type": "stream",
     "text": [
      "<class 'list'>\n"
     ]
    }
   ],
   "source": [
    "li=[1,2,3,4,5]\n",
    "print(type(li))"
   ]
  },
  {
   "cell_type": "code",
   "execution_count": 59,
   "id": "29f5aa8c",
   "metadata": {},
   "outputs": [
    {
     "name": "stdout",
     "output_type": "stream",
     "text": [
      "<class 'numpy.ndarray'>\n"
     ]
    }
   ],
   "source": [
    "al=np.asarray(li)\n",
    "print(type(al))"
   ]
  },
  {
   "cell_type": "code",
   "execution_count": 63,
   "id": "c1937053",
   "metadata": {},
   "outputs": [
    {
     "name": "stdout",
     "output_type": "stream",
     "text": [
      "<class 'tuple'>\n"
     ]
    }
   ],
   "source": [
    "tup=(1,2,3,4,5)\n",
    "print(type(tup))"
   ]
  },
  {
   "cell_type": "code",
   "execution_count": 64,
   "id": "9370c6e6",
   "metadata": {},
   "outputs": [
    {
     "name": "stdout",
     "output_type": "stream",
     "text": [
      "<class 'numpy.ndarray'>\n"
     ]
    }
   ],
   "source": [
    "al=np.asarray(tup)\n",
    "print(type(al))"
   ]
  },
  {
   "cell_type": "code",
   "execution_count": 65,
   "id": "2c8e3c0d",
   "metadata": {},
   "outputs": [
    {
     "name": "stdout",
     "output_type": "stream",
     "text": [
      "[[1 2 3]\n",
      " [4 5 6]]\n"
     ]
    }
   ],
   "source": [
    "x=[(1,2,3),(4,5,6)]\n",
    "arr=np.asarray(x)\n",
    "print(arr)"
   ]
  },
  {
   "cell_type": "code",
   "execution_count": null,
   "id": "39deb110",
   "metadata": {},
   "outputs": [],
   "source": []
  }
 ],
 "metadata": {
  "kernelspec": {
   "display_name": "Python 3 (ipykernel)",
   "language": "python",
   "name": "python3"
  },
  "language_info": {
   "codemirror_mode": {
    "name": "ipython",
    "version": 3
   },
   "file_extension": ".py",
   "mimetype": "text/x-python",
   "name": "python",
   "nbconvert_exporter": "python",
   "pygments_lexer": "ipython3",
   "version": "3.10.9"
  }
 },
 "nbformat": 4,
 "nbformat_minor": 5
}
