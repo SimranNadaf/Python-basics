{
 "cells": [
  {
   "cell_type": "markdown",
   "id": "7cc6e6a8",
   "metadata": {},
   "source": [
    "# creating a file name test2"
   ]
  },
  {
   "cell_type": "code",
   "execution_count": 11,
   "id": "07a25bed",
   "metadata": {},
   "outputs": [
    {
     "name": "stdout",
     "output_type": "stream",
     "text": [
      "Enter text :- 12345678900\n"
     ]
    }
   ],
   "source": [
    "f1=open('test2.txt','w')\n",
    "\n",
    "# enter character from keyboard\n",
    "\n",
    "str1=input(\"Enter text :- \")\n",
    "\n",
    "f1.write(str1)\n",
    "f1.close()"
   ]
  },
  {
   "cell_type": "markdown",
   "id": "5090eb92",
   "metadata": {},
   "source": [
    "# reading character from test1"
   ]
  },
  {
   "cell_type": "code",
   "execution_count": 10,
   "id": "2783a284",
   "metadata": {},
   "outputs": [
    {
     "name": "stdout",
     "output_type": "stream",
     "text": [
      "hello everyone....!\n",
      "i am simran nadaf and i am computer engineer\n"
     ]
    }
   ],
   "source": [
    "#open the file for reading data\n",
    "f2=open('test1.txt','r')\n",
    "\n",
    "#read all character from file\n",
    "str2=f2.read()\n",
    "\n",
    "#display them on the screen\n",
    "print(str2)\n",
    "f2.close()"
   ]
  },
  {
   "cell_type": "markdown",
   "id": "f941f28a",
   "metadata": {},
   "source": [
    "## White a program to store a group of string into a text file , until the user not pressing @ symbol"
   ]
  },
  {
   "cell_type": "code",
   "execution_count": 1,
   "id": "54236597",
   "metadata": {},
   "outputs": [
    {
     "name": "stdout",
     "output_type": "stream",
     "text": [
      "Enter text(@ at the end to close the file)\n",
      "simran \n",
      "nadaf\n",
      "is \n",
      "a\n",
      "good\n",
      "girl\n",
      "@\n"
     ]
    }
   ],
   "source": [
    "f3=open('test.txt','w')\n",
    "#enter input from keyboard\n",
    "print(\"Enter text(@ at the end to close the file)\")\n",
    "while str !='@':\n",
    "    str=input()\n",
    "    if(str != '@'):\n",
    "        f3.write(str+'\\n')\n",
    "# closing the file\n",
    "f3.close()"
   ]
  },
  {
   "cell_type": "markdown",
   "id": "b871d6d4",
   "metadata": {},
   "source": [
    "# read the test.txt file"
   ]
  },
  {
   "cell_type": "code",
   "execution_count": 2,
   "id": "7f9e13c1",
   "metadata": {},
   "outputs": [
    {
     "name": "stdout",
     "output_type": "stream",
     "text": [
      "simran \n",
      "nadaf\n",
      "is \n",
      "a\n",
      "good\n",
      "girl\n",
      "\n"
     ]
    }
   ],
   "source": [
    "#open the file for reading data\n",
    "f2=open('test.txt','r')\n",
    "\n",
    "#read all character from file\n",
    "str2=f2.read()\n",
    "\n",
    "#display them on the screen\n",
    "print(str2)\n",
    "f2.close()"
   ]
  },
  {
   "cell_type": "markdown",
   "id": "2de770b7",
   "metadata": {},
   "source": [
    "# A python program to append data to an existing file and then displaying the entire file"
   ]
  },
  {
   "cell_type": "code",
   "execution_count": 5,
   "id": "52c5d55a",
   "metadata": {},
   "outputs": [
    {
     "name": "stdout",
     "output_type": "stream",
     "text": [
      "Enter the text to append and end with @\n",
      "simran nadaf\n",
      "@\n",
      "The file content are :- \n",
      "hiiihiiiiisimran nadaf\n"
     ]
    }
   ],
   "source": [
    "f1=open('test1.txt','a+')\n",
    "print(\"Enter the text to append and end with @\")\n",
    "while str!='@':\n",
    "    str=input()\n",
    "    if(str!='@'):\n",
    "        f1.write(str)\n",
    "f1.seek(0,0)\n",
    "print(\"The file content are :- \")\n",
    "str=f1.read()\n",
    "print(str)\n",
    "f1.close()"
   ]
  },
  {
   "cell_type": "code",
   "execution_count": null,
   "id": "55abd5ba",
   "metadata": {},
   "outputs": [],
   "source": []
  }
 ],
 "metadata": {
  "kernelspec": {
   "display_name": "Python 3 (ipykernel)",
   "language": "python",
   "name": "python3"
  },
  "language_info": {
   "codemirror_mode": {
    "name": "ipython",
    "version": 3
   },
   "file_extension": ".py",
   "mimetype": "text/x-python",
   "name": "python",
   "nbconvert_exporter": "python",
   "pygments_lexer": "ipython3",
   "version": "3.10.9"
  }
 },
 "nbformat": 4,
 "nbformat_minor": 5
}
