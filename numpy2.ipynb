{
 "cells": [
  {
   "cell_type": "markdown",
   "id": "08d49400",
   "metadata": {},
   "source": [
    "# reason to use numpy array instead of list"
   ]
  },
  {
   "cell_type": "markdown",
   "id": "6ec368b1",
   "metadata": {},
   "source": [
    "# Numpy array time complexity < list time complexity"
   ]
  },
  {
   "cell_type": "code",
   "execution_count": 1,
   "id": "8244fb72",
   "metadata": {},
   "outputs": [
    {
     "name": "stdout",
     "output_type": "stream",
     "text": [
      "60.4 µs ± 1.59 µs per loop (mean ± std. dev. of 7 runs, 10,000 loops each)\n"
     ]
    }
   ],
   "source": [
    "import numpy as np\n",
    "%timeit cube=[i**3 for i in range(100)]"
   ]
  },
  {
   "cell_type": "code",
   "execution_count": 2,
   "id": "dd8dd26d",
   "metadata": {},
   "outputs": [
    {
     "name": "stdout",
     "output_type": "stream",
     "text": [
      "3.72 µs ± 36.8 ns per loop (mean ± std. dev. of 7 runs, 100,000 loops each)\n"
     ]
    }
   ],
   "source": [
    "num=np.arange(100)\n",
    "%timeit num**3"
   ]
  },
  {
   "cell_type": "markdown",
   "id": "a376f947",
   "metadata": {},
   "source": [
    "# Numpy array memory complexity < list memory complexity"
   ]
  },
  {
   "cell_type": "code",
   "execution_count": 5,
   "id": "e07c1543",
   "metadata": {},
   "outputs": [
    {
     "name": "stdout",
     "output_type": "stream",
     "text": [
      "Total Memory 92000\n"
     ]
    }
   ],
   "source": [
    "import sys\n",
    "cube=[i**3 for i in range(100)]\n",
    "print(\"Total Memory\",sys.getsizeof(cube)*len(cube))"
   ]
  },
  {
   "cell_type": "code",
   "execution_count": 6,
   "id": "c7053986",
   "metadata": {},
   "outputs": [
    {
     "name": "stdout",
     "output_type": "stream",
     "text": [
      "Total Memory 400\n"
     ]
    }
   ],
   "source": [
    "num=np.arange(100)\n",
    "print(\"Total Memory\",num.itemsize*len(num))"
   ]
  },
  {
   "cell_type": "code",
   "execution_count": null,
   "id": "2ef4bd83",
   "metadata": {},
   "outputs": [],
   "source": []
  }
 ],
 "metadata": {
  "kernelspec": {
   "display_name": "Python 3 (ipykernel)",
   "language": "python",
   "name": "python3"
  },
  "language_info": {
   "codemirror_mode": {
    "name": "ipython",
    "version": 3
   },
   "file_extension": ".py",
   "mimetype": "text/x-python",
   "name": "python",
   "nbconvert_exporter": "python",
   "pygments_lexer": "ipython3",
   "version": "3.10.9"
  }
 },
 "nbformat": 4,
 "nbformat_minor": 5
}
